{
  "nbformat": 4,
  "nbformat_minor": 0,
  "metadata": {
    "colab": {
      "provenance": [],
      "authorship_tag": "ABX9TyOVcpf8ud4oJx9nVd0SPSPZ",
      "include_colab_link": true
    },
    "kernelspec": {
      "name": "python3",
      "display_name": "Python 3"
    },
    "language_info": {
      "name": "python"
    }
  },
  "cells": [
    {
      "cell_type": "markdown",
      "metadata": {
        "id": "view-in-github",
        "colab_type": "text"
      },
      "source": [
        "<a href=\"https://colab.research.google.com/github/namyaagrawal03/CODSOFT/blob/main/MomsRemedies.ipynb\" target=\"_parent\"><img src=\"https://colab.research.google.com/assets/colab-badge.svg\" alt=\"Open In Colab\"/></a>"
      ]
    },
    {
      "cell_type": "code",
      "source": [
        "import nltk\n",
        "import pandas as pd\n",
        "nltk.download('punkt')\n",
        "nltk.download('wordnet')\n",
        "from nltk.corpus import wordnet\n",
        "import json\n",
        "from nltk.tokenize import word_tokenize\n",
        "import random\n",
        "import spacy"
      ],
      "metadata": {
        "colab": {
          "base_uri": "https://localhost:8080/"
        },
        "id": "ndVra59YRdzB",
        "outputId": "44ef5df7-4dfd-46ab-c86e-9f38bc4137d0"
      },
      "execution_count": null,
      "outputs": [
        {
          "output_type": "stream",
          "name": "stderr",
          "text": [
            "[nltk_data] Downloading package punkt to /root/nltk_data...\n",
            "[nltk_data]   Package punkt is already up-to-date!\n",
            "[nltk_data] Downloading package wordnet to /root/nltk_data...\n",
            "[nltk_data]   Package wordnet is already up-to-date!\n"
          ]
        }
      ]
    },
    {
      "cell_type": "code",
      "source": [
        "from google.colab import drive\n",
        "drive.mount(\"/content/drive\")\n",
        "tag_responses=pd.read_json(\"/content/drive/MyDrive/intents (1).json\")"
      ],
      "metadata": {
        "id": "NC3TF53oQgzd",
        "colab": {
          "base_uri": "https://localhost:8080/"
        },
        "outputId": "1311ad4f-2ff3-4e00-86a9-e596debd3fed"
      },
      "execution_count": null,
      "outputs": [
        {
          "output_type": "stream",
          "name": "stdout",
          "text": [
            "Drive already mounted at /content/drive; to attempt to forcibly remount, call drive.mount(\"/content/drive\", force_remount=True).\n"
          ]
        }
      ]
    },
    {
      "cell_type": "code",
      "source": [
        "# Initialize NLP\n",
        "nlp = spacy.load(\"en_core_web_sm\")\n",
        "\n",
        "# Function to preprocess text\n",
        "def preprocess_text(text):\n",
        "    doc = nlp(text)\n",
        "    return \" \".join([token.lemma_ for token in doc if not token.is_punct])"
      ],
      "metadata": {
        "id": "stoz26_csj7z"
      },
      "execution_count": null,
      "outputs": []
    },
    {
      "cell_type": "code",
      "source": [
        "# Function to get a random response from the intent\n",
        "def get_response(intent):\n",
        "    return random.choice(intent['responses'])\n",
        "\n",
        "# Function to find synonyms using WordNet\n",
        "def get_synonyms(word):\n",
        "    synonyms = set()\n",
        "    for synset in wordnet.synsets(word):\n",
        "        for lemma in synset.lemmas():\n",
        "            synonyms.add(lemma.name())\n",
        "    return list(synonyms)"
      ],
      "metadata": {
        "id": "fcpvUZwYsmSs"
      },
      "execution_count": null,
      "outputs": []
    },
    {
      "cell_type": "code",
      "source": [
        "# Main chat function\n",
        "def chat():\n",
        "    print(\"Chatbot: Hello! How can I help you today?\")\n",
        "\n",
        "    while True:\n",
        "        user_input = input(\"You: \")\n",
        "        user_input = preprocess_text(user_input)\n",
        "        tokens = word_tokenize(user_input)\n",
        "\n",
        "        exit_phrases = {\"exit\", \"bye\", \"see you later\", \"goodbye\", \"no\", \"thank you\", \"thanks\"}\n",
        "\n",
        "    #checking if any exit phrases are in the user input\n",
        "        if any (phrase in tokens for phrase in exit_phrases):\n",
        "            print(\"Chatbot: Goodbye, have a nice day !\")\n",
        "            break\n",
        "\n",
        "        found_intent = None\n",
        "        for intent in tag_responses[\"intents\"]:\n",
        "            for pattern in intent[\"patterns\"]:\n",
        "                for token in tokens:\n",
        "                    if token in pattern.split() or token in get_synonyms(pattern):\n",
        "                        found_intent = intent\n",
        "                        break\n",
        "\n",
        "        if found_intent:\n",
        "            response = get_response(found_intent)\n",
        "            print(\"Chatbot:\", response)\n",
        "        else:\n",
        "            print(\"Chatbot: Sorry, I cannot recommend you remedies baed on your input\")\n",
        "            break\n",
        "\n"
      ],
      "metadata": {
        "id": "HdmQDJ93ROuz"
      },
      "execution_count": null,
      "outputs": []
    },
    {
      "cell_type": "code",
      "source": [
        "if __name__ == \"__main__\":\n",
        "    chat()\n"
      ],
      "metadata": {
        "colab": {
          "base_uri": "https://localhost:8080/"
        },
        "id": "-KmjZL-sspLs",
        "outputId": "e253d17d-27de-4935-d2c5-ceb146e95d35"
      },
      "execution_count": null,
      "outputs": [
        {
          "output_type": "stream",
          "name": "stdout",
          "text": [
            "Chatbot: Hello! How can I help you today?\n",
            "You: Hi\n",
            "Chatbot: Hi there, how can I help?\n",
            "You: I have severe headache and fever\n",
            "Chatbot: You might be experiencing fever.Consult a doctor, any activity can cause an increase in body temperature. Therefore, it is important that you rest well to recover from a fever.\n",
            "You: Ok\n",
            "Chatbot: My pleasure! Do you have any other queries?\n",
            "You: No thanks\n",
            "Chatbot: Goodbye, have a nice day !\n"
          ]
        }
      ]
    },
    {
      "cell_type": "code",
      "source": [],
      "metadata": {
        "id": "rWGe7zwHstiM"
      },
      "execution_count": null,
      "outputs": []
    }
  ]
}